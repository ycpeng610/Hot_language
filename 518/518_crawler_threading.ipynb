{
 "cells": [
  {
   "cell_type": "code",
   "execution_count": 1,
   "metadata": {
    "collapsed": true
   },
   "outputs": [],
   "source": [
    "import requests\n",
    "from bs4 import BeautifulSoup\n",
    "import re\n",
    "from collections import Counter      # counter (dict形式）\n",
    "import threading\n",
    "import time\n",
    "\n"
   ]
  },
  {
   "cell_type": "code",
   "execution_count": 5,
   "metadata": {
    "collapsed": true
   },
   "outputs": [],
   "source": [
    "#########  每個標題頁 def\n",
    "host = 'https://www.518.com.tw'\n",
    "links_al = []\n",
    "def getlink(i):\n",
    "    res = requests.get(host+'/job-index-P-'+str(i)+'.html?i=1&am=1&ab=2032001')    # '下一頁'組合\n",
    "    soup = BeautifulSoup(res.text,'lxml')\n",
    "    links = soup.select('li.title > a')                  # 每一頁的 '標題頁'連結\n",
    "    for link in links :                                  # '標題頁'連結 取出\n",
    "            l = link['href']\n",
    "            links_al.append(l)       "
   ]
  },
  {
   "cell_type": "code",
   "execution_count": 129,
   "metadata": {
    "collapsed": true
   },
   "outputs": [],
   "source": [
    "#########  每個標題頁thread\n",
    "class getlinkThread(threading.Thread):    \n",
    "    def __init__(self,link):\n",
    "        threading.Thread.__init__(self)\n",
    "        self.link = link\n",
    "    def run(self):               # run getlink 的方法 裡面的 link['href']\n",
    "        getlink(self.link)"
   ]
  },
  {
   "cell_type": "code",
   "execution_count": 130,
   "metadata": {
    "collapsed": true
   },
   "outputs": [],
   "source": [
    "######### 內文 def\n",
    "def getinner(inner):\n",
    "    \n",
    "    res = requests.get(inner)\n",
    "    soup = BeautifulSoup(res.text,'lxml')\n",
    "    try:\n",
    "        line1 = soup.select_one('div.JobDescription > p').text   # 工作內容 \n",
    "        line2 = soup.select_one('div.job-detail-box > dl').text  # 擅長工具\n",
    "        line3 = line1 + line2                                    # list 合併\n",
    "        up = line3.upper()                                       # 統一轉為大寫處理\n",
    "        line = re.findall('[A-Z]+[+#-C]*',\"%s\" %up)              # 找正規化後的字串\n",
    "        \n",
    "\n",
    "        line_c = []                       # 給他有一個排序的位置放\n",
    "        for line_check in line:           # 將'正規化'好的 line 放入自定義的 line_check\n",
    "            if line_check not in line_c:  # 將不再line_check 的英文單字放入line_c(為了不讓值重複)\n",
    "                line_c.append(line_check)\n",
    "\n",
    "                \n",
    "        for language in line_c :     # 把整理好的line_c 值取出到自定義的 language (list形式)\n",
    "            global wc                # 全域變數\n",
    "            if language in wc :      # 如果 lines 的東西有在 wc\n",
    "                wc[language] +=1     # wc  就+1\n",
    "#             else:                  # 取消是因為有自行建立字典會在裡面篩選\n",
    "#                 wc[lines] = 1      # 不然就初值為1\n",
    "      \n",
    "    except:\n",
    "        #print(url)              # print 出有問題的網頁\n",
    "        pass                     # 有些網頁有問題跳過所以pass  "
   ]
  },
  {
   "cell_type": "code",
   "execution_count": 131,
   "metadata": {
    "collapsed": true
   },
   "outputs": [],
   "source": [
    "######### 內文thread\n",
    "class getinnerThread(threading.Thread):\n",
    "    def __init__(self,inner):\n",
    "        threading.Thread.__init__(self)\n",
    "        self.inner = inner\n",
    "    def run(self):                       # run inner\n",
    "        getinner(self.inner)"
   ]
  },
  {
   "cell_type": "code",
   "execution_count": 132,
   "metadata": {
    "collapsed": false,
    "scrolled": false
   },
   "outputs": [
    {
     "data": {
      "text/plain": [
       "[('JAVA', 231),\n",
       " ('PHP', 194),\n",
       " ('HTML', 191),\n",
       " ('SQL', 176),\n",
       " ('CSS', 136),\n",
       " ('JAVASCRIPT', 110),\n",
       " ('C#', 81),\n",
       " ('C++', 62),\n",
       " ('C', 33),\n",
       " ('PYTHON', 10),\n",
       " ('PERL', 8),\n",
       " ('SWIFT', 8),\n",
       " ('DELPHI', 5),\n",
       " ('R', 3),\n",
       " ('RUBY', 3),\n",
       " ('GO', 2),\n",
       " ('BASH', 0),\n",
       " ('SCALA', 0),\n",
       " ('TYPESCRIPT', 0)]"
      ]
     },
     "execution_count": 132,
     "metadata": {},
     "output_type": "execute_result"
    }
   ],
   "source": [
    "wc = Counter()             # local variable 'wc' referenced before assignment  要注意區域變數問題！！！  不能放在迴圈\n",
    "wc[\"C\"]=0                  # 自行建立字典過濾非必要的單字\n",
    "wc[\"C++\"]=0\n",
    "wc[\"C#\"]=0\n",
    "wc[\"PYTHON\"]=0\n",
    "wc[\"JAVA\"]=0\n",
    "wc[\"JAVASCRIPT\"]=0\n",
    "wc[\"PHP\"]=0\n",
    "wc[\"HTML\"]=0\n",
    "wc[\"SQL\"]=0\n",
    "wc[\"CSS\"]=0\n",
    "wc[\"R\"]=0\n",
    "wc[\"CSS\"]=0\n",
    "wc[\"BASH\"]=0\n",
    "wc[\"RUBY\"]=0\n",
    "wc[\"PERL\"]=0\n",
    "wc[\"SCALA\"]=0\n",
    "wc[\"SWIFT\"]=0\n",
    "wc[\"GO\"]=0\n",
    "wc[\"DELPHI\"]=0\n",
    "wc[\"TYPESCRIPT\"]=0\n",
    "\n",
    "\n",
    "threads = []                        # 標題頁\n",
    "for i in range(1,45):               # 頁數\n",
    "    Thread = getlinkThread(i)       # 載入頁數中的標題頁\n",
    "    threads.append(Thread)          # 裝到list裡面\n",
    "for i in threads:                   # 跑\n",
    "    i.start()\n",
    "    time.sleep(0.1)\n",
    "for i in threads:                   # 等star動作結束在繼續下一步\n",
    "    i.join()\n",
    "        \n",
    "threadinner = []                       #   內文頁\n",
    "for inner in links_al:                 #  '標題頁links_al' 裡的內文\n",
    "    Thread = getinnerThread(inner)     # \n",
    "    threadinner.append(Thread)\n",
    "for i in threadinner:\n",
    "    i.start()\n",
    "    time.sleep(0.1)\n",
    "for i in threadinner:\n",
    "    i.join()\n",
    "    \n",
    "    \n"
   ]
  },
  {
   "cell_type": "code",
   "execution_count": 151,
   "metadata": {
    "collapsed": false
   },
   "outputs": [
    {
     "data": {
      "text/plain": [
       "[('JAVA', 231),\n",
       " ('PHP', 194),\n",
       " ('HTML', 191),\n",
       " ('SQL', 176),\n",
       " ('CSS', 136),\n",
       " ('JAVASCRIPT', 110),\n",
       " ('C#', 81),\n",
       " ('C++', 62),\n",
       " ('C', 33),\n",
       " ('PYTHON', 10),\n",
       " ('PERL', 8),\n",
       " ('SWIFT', 8),\n",
       " ('DELPHI', 5),\n",
       " ('R', 3),\n",
       " ('RUBY', 3),\n",
       " ('GO', 2),\n",
       " ('BASH', 0),\n",
       " ('SCALA', 0),\n",
       " ('TYPESCRIPT', 0)]"
      ]
     },
     "execution_count": 151,
     "metadata": {},
     "output_type": "execute_result"
    }
   ],
   "source": [
    "\n",
    "with open ('lanaugle_langs.csv','w') as fw:   # 寫入檔案\n",
    "\n",
    "    for lang,counts in wc.most_common():\n",
    "        fw.write('{},{}\\n'.format(lang,counts))\n",
    "wc.most_common()"
   ]
  },
  {
   "cell_type": "code",
   "execution_count": 141,
   "metadata": {
    "collapsed": true
   },
   "outputs": [],
   "source": [
    "import pandas as pd\n",
    "import numpy as np\n",
    "import matplotlib.pyplot as plt\n",
    "\n",
    "from collections import OrderedDict"
   ]
  },
  {
   "cell_type": "code",
   "execution_count": 168,
   "metadata": {
    "collapsed": true
   },
   "outputs": [],
   "source": [
    "mydata = pd.read_csv('lanaugle_langs.csv')"
   ]
  },
  {
   "cell_type": "code",
   "execution_count": 153,
   "metadata": {
    "collapsed": false
   },
   "outputs": [
    {
     "data": {
      "text/html": [
       "<div>\n",
       "<table border=\"1\" class=\"dataframe\">\n",
       "  <thead>\n",
       "    <tr style=\"text-align: right;\">\n",
       "      <th></th>\n",
       "      <th>JAVA</th>\n",
       "      <th>231</th>\n",
       "    </tr>\n",
       "  </thead>\n",
       "  <tbody>\n",
       "    <tr>\n",
       "      <th>0</th>\n",
       "      <td>PHP</td>\n",
       "      <td>194</td>\n",
       "    </tr>\n",
       "    <tr>\n",
       "      <th>1</th>\n",
       "      <td>HTML</td>\n",
       "      <td>191</td>\n",
       "    </tr>\n",
       "    <tr>\n",
       "      <th>2</th>\n",
       "      <td>SQL</td>\n",
       "      <td>176</td>\n",
       "    </tr>\n",
       "    <tr>\n",
       "      <th>3</th>\n",
       "      <td>CSS</td>\n",
       "      <td>136</td>\n",
       "    </tr>\n",
       "    <tr>\n",
       "      <th>4</th>\n",
       "      <td>JAVASCRIPT</td>\n",
       "      <td>110</td>\n",
       "    </tr>\n",
       "  </tbody>\n",
       "</table>\n",
       "</div>"
      ],
      "text/plain": [
       "         JAVA  231\n",
       "0         PHP  194\n",
       "1        HTML  191\n",
       "2         SQL  176\n",
       "3         CSS  136\n",
       "4  JAVASCRIPT  110"
      ]
     },
     "execution_count": 153,
     "metadata": {},
     "output_type": "execute_result"
    }
   ],
   "source": [
    "mydata.head()"
   ]
  },
  {
   "cell_type": "code",
   "execution_count": 155,
   "metadata": {
    "collapsed": false
   },
   "outputs": [
    {
     "data": {
      "text/plain": [
       "OrderedDict([('JAVA', 231),\n",
       "             ('PHP', 194),\n",
       "             ('HTML', 191),\n",
       "             ('SQL', 176),\n",
       "             ('CSS', 136),\n",
       "             ('JAVASCRIPT', 110),\n",
       "             ('C#', 81),\n",
       "             ('C++', 62),\n",
       "             ('C', 33),\n",
       "             ('PYTHON', 10),\n",
       "             ('PERL', 8),\n",
       "             ('SWIFT', 8),\n",
       "             ('DELPHI', 5),\n",
       "             ('R', 3),\n",
       "             ('RUBY', 3),\n",
       "             ('GO', 2),\n",
       "             ('BASH', 0),\n",
       "             ('SCALA', 0),\n",
       "             ('TYPESCRIPT', 0)])"
      ]
     },
     "execution_count": 155,
     "metadata": {},
     "output_type": "execute_result"
    }
   ],
   "source": [
    "language = OrderedDict(wc.most_common())\n",
    "language"
   ]
  },
  {
   "cell_type": "code",
   "execution_count": 166,
   "metadata": {
    "collapsed": false
   },
   "outputs": [
    {
     "data": {
      "image/png": "[encoded data removed]",
      "text/plain": [
       "<matplotlib.figure.Figure at 0x7fc2d4bc5b70>"
      ]
     },
     "metadata": {},
     "output_type": "display_data"
    }
   ],
   "source": [
    "xticks = np.arange(len(language)) \n",
    "plt.xticks(xticks, list(language.keys()))  # 預設 X 座標數字，改顯示水果名\n",
    "plt.bar(xticks,language.values(),align = 'center')\n",
    "plt.xticks(rotation = 65)                  #選轉角度\n",
    "plt.title(\"language: %d\" % len(language))  # 給標題\n",
    "plt.show() "
   ]
  },
  {
   "cell_type": "code",
   "execution_count": 160,
   "metadata": {
    "collapsed": false
   },
   "outputs": [
    {
     "data": {
      "image/png": "[encoded data removed]",
      "text/plain": [
       "<matplotlib.figure.Figure at 0x7fc304d17080>"
      ]
     },
     "metadata": {},
     "output_type": "display_data"
    }
   ],
   "source": [
    "plt.rcdefaults()\n",
    "fig, ax = plt.subplots()\n",
    "\n",
    "y_pos = np.arange(len(language))\n",
    "performance = list(language.values())\n",
    "error = np.random.rand(len(language))\n",
    "\n",
    "ax.barh(y_pos, performance, align='center',color='#8080ff')\n",
    "ax.set_yticks(y_pos)\n",
    "ax.set_yticklabels(language)\n",
    "ax.invert_yaxis()  \n",
    "ax.set_xlabel('The number of occurrences')\n",
    "ax.set_title('The most popular programming language')\n",
    "\n",
    "plt.show()"
   ]
  },
  {
   "cell_type": "code",
   "execution_count": 192,
   "metadata": {
    "collapsed": false
   },
   "outputs": [
    {
     "data": {
      "image/png": "[encoded data removed]",
      "text/plain": [
       "<matplotlib.figure.Figure at 0x7fc2d48aff60>"
      ]
     },
     "metadata": {},
     "output_type": "display_data"
    }
   ],
   "source": [
    "import numpy as np\n",
    "import matplotlib.pyplot as plt\n",
    "\n",
    "language = 20\n",
    "X = np.random.normal(1,5,n)\n",
    "Y = np.random.normal(1,1,n)\n",
    "\n",
    "plt.scatter(X,Y)\n",
    "plt.show()"
   ]
  },
  {
   "cell_type": "code",
   "execution_count": 191,
   "metadata": {
    "collapsed": false
   },
   "outputs": [
    {
     "ename": "NameError",
     "evalue": "name 'xlim' is not defined",
     "output_type": "error",
     "traceback": [
      "\u001b[0;31m---------------------------------------------------------------------------\u001b[0m",
      "\u001b[0;31mNameError\u001b[0m                                 Traceback (most recent call last)",
      "\u001b[0;32m<ipython-input-191-b6adba321f0e>\u001b[0m in \u001b[0;36m<module>\u001b[0;34m()\u001b[0m\n\u001b[1;32m      8\u001b[0m \u001b[0;34m\u001b[0m\u001b[0m\n\u001b[1;32m      9\u001b[0m \u001b[0mplt\u001b[0m\u001b[0;34m.\u001b[0m\u001b[0msubplot\u001b[0m\u001b[0;34m(\u001b[0m\u001b[0;36m221\u001b[0m\u001b[0;34m)\u001b[0m\u001b[0;34m\u001b[0m\u001b[0m\n\u001b[0;32m---> 10\u001b[0;31m \u001b[0mxlim\u001b[0m\u001b[0;34m(\u001b[0m\u001b[0;34m-\u001b[0m\u001b[0;36m2.5\u001b[0m\u001b[0;34m,\u001b[0m\u001b[0;36m5.5\u001b[0m\u001b[0;34m)\u001b[0m\u001b[0;34m\u001b[0m\u001b[0m\n\u001b[0m\u001b[1;32m     11\u001b[0m \u001b[0mylm\u001b[0m\u001b[0;34m(\u001b[0m\u001b[0;36m1\u001b[0m\u001b[0;34m,\u001b[0m\u001b[0;34m-\u001b[0m\u001b[0;36m1\u001b[0m\u001b[0;34m)\u001b[0m\u001b[0;34m\u001b[0m\u001b[0m\n\u001b[1;32m     12\u001b[0m \u001b[0mplt\u001b[0m\u001b[0;34m.\u001b[0m\u001b[0mplot\u001b[0m\u001b[0;34m(\u001b[0m\u001b[0mx\u001b[0m\u001b[0;34m,\u001b[0m\u001b[0my1\u001b[0m\u001b[0;34m)\u001b[0m\u001b[0;34m\u001b[0m\u001b[0m\n",
      "\u001b[0;31mNameError\u001b[0m: name 'xlim' is not defined"
     ]
    },
    {
     "data": {
      "image/png": "[encoded data removed]",
      "text/plain": [
       "<matplotlib.figure.Figure at 0x7fc307630358>"
      ]
     },
     "metadata": {},
     "output_type": "display_data"
    }
   ],
   "source": [
    "%matplotlib inline\n",
    "x = np.arange(2.0,1.2,6.2)\n",
    "y1 = np.sin(x)\n",
    "\n",
    "plt.figure(1)\n",
    "plt.subplot(221)\n",
    "plt.plot(x,y1)\n",
    "\n",
    "plt.subplot(221)\n",
    "xlim(-2.5,5.5)\n",
    "ylm(1,-1)\n",
    "plt.plot(x,y1)\n",
    "\n",
    "\n"
   ]
  },
  {
   "cell_type": "code",
   "execution_count": 193,
   "metadata": {
    "collapsed": false
   },
   "outputs": [
    {
     "data": {
      "image/png": "[encoded data removed]",
      "text/plain": [
       "<matplotlib.figure.Figure at 0x7fc304d83048>"
      ]
     },
     "metadata": {},
     "output_type": "display_data"
    }
   ],
   "source": [
    "# evenly sampled time at 200ms intervals\n",
    "t = np.arange(0., 5 , 0.2)\n",
    "# red dashes, blue squares and green triangles\n",
    "plt.plot(t, t, 'r--', t, t**2, 'bs', t, t**3, 'g^')  #-- (虛線)\n",
    "plt.show()"
   ]
  },
  {
   "cell_type": "code",
   "execution_count": null,
   "metadata": {
    "collapsed": true
   },
   "outputs": [],
   "source": [
    "\n"
   ]
  },
  {
   "cell_type": "code",
   "execution_count": null,
   "metadata": {
    "collapsed": true
   },
   "outputs": [],
   "source": []
  },
  {
   "cell_type": "code",
   "execution_count": null,
   "metadata": {
    "collapsed": true
   },
   "outputs": [],
   "source": []
  }
 ],
 "metadata": {
  "anaconda-cloud": {},
  "kernelspec": {
   "display_name": "Python [default]",
   "language": "python",
   "name": "python3"
  },
  "language_info": {
   "codemirror_mode": {
    "name": "ipython",
    "version": 3
   },
   "file_extension": ".py",
   "mimetype": "text/x-python",
   "name": "python",
   "nbconvert_exporter": "python",
   "pygments_lexer": "ipython3",
   "version": "3.5.2"
  }
 },
 "nbformat": 4,
 "nbformat_minor": 2
}
