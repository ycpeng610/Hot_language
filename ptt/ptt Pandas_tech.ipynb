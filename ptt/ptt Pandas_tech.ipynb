{
 "cells": [
  {
   "cell_type": "code",
   "execution_count": 1,
   "metadata": {
    "collapsed": true
   },
   "outputs": [],
   "source": [
    "import requests\n",
    "from bs4 import BeautifulSoup\n",
    "from collections import Counter\n",
    "import re\n",
    "wc = Counter()\n",
    "# wc[\"C\"] = 0\n",
    "langs = ['C', 'C++','C#','PYTHON','JAVA','JAVASCRIPT','PHP','HTML','SQL','CSS','R','BASH','RUBY','PERL','SCALA','SWIFT','GO','DELPHI','TYPESCRIPT']\n",
    "\n",
    "for lang in langs: #value初始化\n",
    "    wc[lang] = 0"
   ]
  },
  {
   "cell_type": "code",
   "execution_count": 2,
   "metadata": {
    "collapsed": true
   },
   "outputs": [],
   "source": [
    "#打開計算好的語言和數量的csv檔\n",
    "with open ('ptt_langs_tech.csv','r') as fr:\n",
    "    rows = fr.read().split('\\n')\n",
    "    rows = [row for row in rows if len(row) > 0]"
   ]
  },
  {
   "cell_type": "code",
   "execution_count": 3,
   "metadata": {
    "collapsed": true
   },
   "outputs": [],
   "source": [
    "key_list = [row.split(',')[0] for row in rows ]\n",
    "value_list = [int(row.split(',')[1]) for row in rows]"
   ]
  },
  {
   "cell_type": "code",
   "execution_count": 5,
   "metadata": {
    "collapsed": true
   },
   "outputs": [],
   "source": [
    "import pandas as pd\n",
    "import numpy as np\n",
    "import matplotlib.pyplot as plt"
   ]
  },
  {
   "cell_type": "code",
   "execution_count": 6,
   "metadata": {},
   "outputs": [],
   "source": [
    "#    pd.DataFrame(data=None, index=None, columns=None, dtype=None, copy=False)\n",
    "df = pd.DataFrame(value_list,index=key_list,columns=['counts'])"
   ]
  },
  {
   "cell_type": "code",
   "execution_count": 7,
   "metadata": {},
   "outputs": [
    {
     "data": {
      "image/png": "[encoded data removed]",
      "text/plain": [
       "<matplotlib.figure.Figure at 0x109e7b828>"
      ]
     },
     "metadata": {},
     "output_type": "display_data"
    }
   ],
   "source": [
    "#pandas用成長條圖的語法\n",
    "plt.figure\n",
    "df.plot(kind='bar')\n",
    "plt.show()"
   ]
  }
 ],
 "metadata": {
  "kernelspec": {
   "display_name": "Python 3",
   "language": "python",
   "name": "python3"
  },
  "language_info": {
   "codemirror_mode": {
    "name": "ipython",
    "version": 3.0
   },
   "file_extension": ".py",
   "mimetype": "text/x-python",
   "name": "python",
   "nbconvert_exporter": "python",
   "pygments_lexer": "ipython3",
   "version": "3.6.1"
  }
 },
 "nbformat": 4,
 "nbformat_minor": 0
}