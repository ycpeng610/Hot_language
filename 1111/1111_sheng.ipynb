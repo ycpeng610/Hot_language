{
 "cells": [
  {
   "cell_type": "code",
   "execution_count": 1,
   "metadata": {
    "collapsed": true
   },
   "outputs": [],
   "source": [
    "import requests\n",
    "from bs4 import BeautifulSoup\n",
    "import re\n",
    "from collections import Counter\n",
    "import matplotlib.pyplot as pt\n",
    "import numpy as np\n",
    "import threading\n",
    "\n",
    "links = []   #將內文頁的連結都存在links裡\n",
    "Host=\"https://www.1111.com.tw\" \n",
    "H='https:'\n",
    "wc=Counter() #先建字典，放在最外面給大家都能使用\n",
    "wc['C++']=0\n",
    "wc['C']=0\n",
    "wc['JAVA']=0\n",
    "wc['JAVASCRIPT']=0\n",
    "wc['C#']=0\n",
    "wc['PYTHON']=0\n",
    "wc['PHP']=0\n",
    "wc['HTML']=0\n",
    "wc['SQL']=0\n",
    "wc['CSS']=0\n",
    "wc['R']=0\n",
    "wc['BASH']=0\n",
    "wc['RUBY']=0\n",
    "wc['PERL']=0\n",
    "wc['SCALA']=0\n",
    "wc['SWIFT']=0\n",
    "wc['GO']=0\n",
    "wc['DELPHI']=0\n",
    "wc['TYPESCRIPT']=0"
   ]
  },
  {
   "cell_type": "code",
   "execution_count": 2,
   "metadata": {
    "collapsed": true,
    "scrolled": true
   },
   "outputs": [],
   "source": [
    "def pageChange(page): #換頁爬蟲，page要給頁數\n",
    "    pages=Host+'/job-bank/job-index.asp?si=1&ss=s&d0=140200,140100,140300,140400&page='+str(page)\n",
    "    res=requests.get(pages)  \n",
    "    soup=BeautifulSoup(res.text,'lxml')  #將每一頁轉成soup\n",
    "    buttons=soup.select('div.jbInfoin > h3 > a') #再從soup的原始碼內找出各內文頁的連結\n",
    "    for i in buttons:\n",
    "        links.append(i['href']) #將各內文頁的網址存入links"
   ]
  },
  {
   "cell_type": "code",
   "execution_count": 3,
   "metadata": {
    "collapsed": true
   },
   "outputs": [],
   "source": [
    "def extract(link):\n",
    "    sk=requests.get(H+link)  #將各內文頁的網址加上'https:'使其完整\n",
    "    BS=BeautifulSoup(sk.text,'lxml') \n",
    "    data=BS.find('div',{'id':\"midblock\"})\n",
    "    words=data.find_all('dd')#抓出專長頁&工作內容也有可能出現語言的需求\n",
    "    p=re.compile('[A-Z]+[+#]*')\n",
    "    cols=p.findall(str(words).upper())   #(R) str(words) cheng type  then can useing  .upper()\n",
    "    W=[]\n",
    "    for w in cols:  #比對出現在頁面中的英文是否出現過 （刪除重複）\n",
    "        if w not in W:\n",
    "             W.append(w)\n",
    "        \n",
    "    for word in W: #如果有出現在字典中 丟到wc做計算\n",
    "        if word in wc:\n",
    "            wc[word]+=1"
   ]
  },
  {
   "cell_type": "code",
   "execution_count": 4,
   "metadata": {
    "collapsed": true
   },
   "outputs": [],
   "source": [
    "class textThread (threading.Thread):  #建立內文爬蟲的執行緒\n",
    "    def __init__(self,link): #定義建構子（self為必要(= JAVA裡的this),後面接要輸入的參數）\n",
    "        threading.Thread.__init__(self)\n",
    "        self.link=link\n",
    "    def run(self): #等同於java執行緒中的run 把它overwrite \n",
    "        extract(self.link)  #將內文頁的link傳入並呼叫extract方法來找各熱門語言"
   ]
  },
  {
   "cell_type": "code",
   "execution_count": 5,
   "metadata": {
    "collapsed": true
   },
   "outputs": [],
   "source": [
    "class pageThread (threading.Thread): #建立多執行緒類別(內文用)\n",
    "    def __init__(self,page): #定義建構子（self為必要(= JAVA裡的this),後面接要輸入的參數）\n",
    "        threading.Thread.__init__(self) #繼承父類別（照著打就好）\n",
    "        self.page=page #this.page=page\n",
    "    def run(self): #改寫run方法\n",
    "        pageChange(self.page) #將要爬的頁數丟給pageChange去執行"
   ]
  },
  {
   "cell_type": "code",
   "execution_count": 6,
   "metadata": {},
   "outputs": [],
   "source": [
    "threadpage=[] #（換頁）所有執行緒存放的陣列\n",
    "for page in range(1,5):  #看要給幾頁\n",
    "    Thread=pageThread(page)\n",
    "    threadpage.append(Thread)    \n",
    "for i in threadpage:\n",
    "    i.start() #執行緒開始\n",
    "for i in threadpage:\n",
    "    i.join()  #全部執行緒結束後主執行緒才會繼續（確保所有執行緒都跑完）\n",
    "\n",
    "threadwords=[] #（爬內文）所有執行緒存放的陣列\n",
    "for link in links:\n",
    "    threadword=textThread(link) \n",
    "    threadwords.append(threadword)\n",
    "for j in threadwords:\n",
    "    j.start() #執行緒開始\n",
    "    #time.sleep(0.02)\n",
    "for j in threadwords:\n",
    "    j.join() #全部執行緒結束後主執行緒才會繼續（確保所有執行緒都跑完）"
   ]
  },
  {
   "cell_type": "code",
   "execution_count": 8,
   "metadata": {},
   "outputs": [
    {
     "name": "stdout",
     "output_type": "stream",
     "text": [
      "共爬了90頁內文頁\n"
     ]
    },
    {
     "data": {
      "text/plain": [
       "[('PHP', 43),\n",
       " ('SQL', 23),\n",
       " ('JAVA', 18),\n",
       " ('C#', 14),\n",
       " ('HTML', 11),\n",
       " ('C', 10),\n",
       " ('C++', 8),\n",
       " ('JAVASCRIPT', 8),\n",
       " ('CSS', 8),\n",
       " ('PYTHON', 5),\n",
       " ('R', 1),\n",
       " ('BASH', 1),\n",
       " ('SWIFT', 1),\n",
       " ('DELPHI', 1),\n",
       " ('RUBY', 0),\n",
       " ('PERL', 0),\n",
       " ('SCALA', 0),\n",
       " ('GO', 0),\n",
       " ('TYPESCRIPT', 0)]"
      ]
     },
     "execution_count": 8,
     "metadata": {},
     "output_type": "execute_result"
    }
   ],
   "source": [
    "print('共爬了'+str(len(links))+'頁內文頁')\n",
    "wc.most_common()"
   ]
  },
  {
   "cell_type": "code",
   "execution_count": 9,
   "metadata": {},
   "outputs": [
    {
     "name": "stdout",
     "output_type": "stream",
     "text": [
      "['C++', 'C', 'JAVA', 'JAVASCRIPT', 'C#', 'PYTHON', 'PHP', 'HTML', 'SQL', 'CSS', 'R', 'BASH', 'RUBY', 'PERL', 'SCALA', 'SWIFT', 'GO', 'DELPHI', 'TYPESCRIPT']\n"
     ]
    }
   ],
   "source": [
    "leng = []  # 取出每個key\n",
    "for i in wc.keys():\n",
    "    leng.append(i)\n",
    "print(leng)"
   ]
  },
  {
   "cell_type": "code",
   "execution_count": 10,
   "metadata": {},
   "outputs": [
    {
     "name": "stdout",
     "output_type": "stream",
     "text": [
      "[23, 46, 421, 163, 111, 45, 450, 204, 224, 90, 21, 0, 0, 0, 0, 157, 0, 0, 0]\n"
     ]
    }
   ],
   "source": [
    "count = []  # 取出每個 value \n",
    "for i in wc.values():\n",
    "    count.append(i)\n",
    "print(count)"
   ]
  },
  {
   "cell_type": "code",
   "execution_count": 11,
   "metadata": {},
   "outputs": [
    {
     "name": "stdout",
     "output_type": "stream",
     "text": [
      "['C++', 'C', 'JAVA', 'JAVASCRIPT', 'C#', 'PYTHON', 'PHP', 'HTML', 'SQL', 'CSS', 'R', 'BASH', 'RUBY', 'PERL', 'SCALA', 'SWIFT', 'GO', 'DELPHI', 'TYPESCRIPT', 'C++', 'C', 'JAVA', 'JAVASCRIPT', 'C#', 'PYTHON', 'PHP', 'HTML', 'SQL', 'CSS', 'R', 'BASH', 'RUBY', 'PERL', 'SCALA', 'SWIFT', 'GO', 'DELPHI', 'TYPESCRIPT']\n"
     ]
    },
    {
     "data": {
      "image/png": "[encoded data removed]",
      "text/plain": [
       "<matplotlib.figure.Figure at 0x7f9b28c29048>"
      ]
     },
     "metadata": {},
     "output_type": "display_data"
    }
   ],
   "source": [
    "language=np.arange(len(leng)) #利用arange產生leng的索引值\n",
    "for i in wc.keys():\n",
    "    leng.append(i)\n",
    "print(leng)\n",
    "pt.figure(figsize=(18,5)) #設定x,y軸寬度\n",
    "pt.bar(language, count)\n",
    "pt.xticks(language, leng)\n",
    "#pt.xticks(rotation=90)\n",
    "#pt.plot(language, count, linewidth=1)\n",
    "#pt.ylim(0,800)\n",
    "pt.title('Language Data Form 1111')\n",
    "pt.show()"
   ]
  },
  {
   "cell_type": "code",
   "execution_count": null,
   "metadata": {
    "collapsed": true
   },
   "outputs": [],
   "source": [
    ""
   ]
  },
  {
   "cell_type": "code",
   "execution_count": null,
   "metadata": {
    "collapsed": true
   },
   "outputs": [],
   "source": [
    ""
   ]
  },
  {
   "cell_type": "code",
   "execution_count": null,
   "metadata": {
    "collapsed": true
   },
   "outputs": [],
   "source": [
    ""
   ]
  },
  {
   "cell_type": "code",
   "execution_count": null,
   "metadata": {
    "collapsed": true
   },
   "outputs": [],
   "source": [
    ""
   ]
  },
  {
   "cell_type": "code",
   "execution_count": null,
   "metadata": {
    "collapsed": true
   },
   "outputs": [],
   "source": [
    ""
   ]
  },
  {
   "cell_type": "code",
   "execution_count": null,
   "metadata": {
    "collapsed": true
   },
   "outputs": [],
   "source": [
    ""
   ]
  },
  {
   "cell_type": "code",
   "execution_count": null,
   "metadata": {
    "collapsed": true
   },
   "outputs": [],
   "source": [
    ""
   ]
  },
  {
   "cell_type": "code",
   "execution_count": null,
   "metadata": {
    "collapsed": true
   },
   "outputs": [],
   "source": [
    ""
   ]
  },
  {
   "cell_type": "code",
   "execution_count": null,
   "metadata": {
    "collapsed": true
   },
   "outputs": [],
   "source": [
    ""
   ]
  },
  {
   "cell_type": "code",
   "execution_count": null,
   "metadata": {
    "collapsed": true
   },
   "outputs": [],
   "source": [
    ""
   ]
  },
  {
   "cell_type": "code",
   "execution_count": null,
   "metadata": {
    "collapsed": true
   },
   "outputs": [],
   "source": [
    ""
   ]
  },
  {
   "cell_type": "code",
   "execution_count": null,
   "metadata": {
    "collapsed": true
   },
   "outputs": [],
   "source": [
    ""
   ]
  }
 ],
 "metadata": {
  "kernelspec": {
   "display_name": "Python 3",
   "language": "python",
   "name": "python3"
  },
  "language_info": {
   "codemirror_mode": {
    "name": "ipython",
    "version": 3.0
   },
   "file_extension": ".py",
   "mimetype": "text/x-python",
   "name": "python",
   "nbconvert_exporter": "python",
   "pygments_lexer": "ipython3",
   "version": "3.6.1"
  }
 },
 "nbformat": 4,
 "nbformat_minor": 0
}