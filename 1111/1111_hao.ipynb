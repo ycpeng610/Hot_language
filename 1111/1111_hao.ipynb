{
 "cells": [
  {
   "cell_type": "code",
   "execution_count": 21,
   "metadata": {
    "collapsed": true
   },
   "outputs": [],
   "source": [
    "import requests\n",
    "from bs4 import BeautifulSoup\n",
    "import re\n",
    "from collections import Counter"
   ]
  },
  {
   "cell_type": "code",
   "execution_count": 22,
   "metadata": {
    "scrolled": true
   },
   "outputs": [
    {
     "data": {
      "text/plain": [
       "['https://www.1111.com.tw/job-bank/job-index.asp?si=1&ss=s&d0=140200,140100,140300,140400&page=1',\n",
       " 'https://www.1111.com.tw/job-bank/job-index.asp?si=1&ss=s&d0=140200,140100,140300,140400&page=2',\n",
       " 'https://www.1111.com.tw/job-bank/job-index.asp?si=1&ss=s&d0=140200,140100,140300,140400&page=3',\n",
       " 'https://www.1111.com.tw/job-bank/job-index.asp?si=1&ss=s&d0=140200,140100,140300,140400&page=4']"
      ]
     },
     "execution_count": 22,
     "metadata": {},
     "output_type": "execute_result"
    }
   ],
   "source": [
    "Host=\"https://www.1111.com.tw\" \n",
    "page=[]\n",
    "for i in range(1,5):  #查詢頁頁數\n",
    "    pages=Host+'/job-bank/job-index.asp?si=1&ss=s&d0=140200,140100,140300,140400&page='+str(i)\n",
    "    page.append(pages)#將每個搜尋頁連接新增到page這個list中\n",
    "page\n"
   ]
  },
  {
   "cell_type": "code",
   "execution_count": 23,
   "metadata": {},
   "outputs": [
    {
     "data": {
      "text/plain": [
       "list"
      ]
     },
     "execution_count": 23,
     "metadata": {},
     "output_type": "execute_result"
    }
   ],
   "source": [
    "type(page)"
   ]
  },
  {
   "cell_type": "code",
   "execution_count": 24,
   "metadata": {
    "scrolled": true
   },
   "outputs": [
    {
     "data": {
      "text/plain": [
       "['//www.1111.com.tw/job/79904092/',\n",
       " '//www.1111.com.tw/job/79904090/',\n",
       " '//www.1111.com.tw/job/79904087/',\n",
       " '//www.1111.com.tw/job/79904084/',\n",
       " '//www.1111.com.tw/job/79904081/',\n",
       " '//www.1111.com.tw/job/79904080/',\n",
       " '//www.1111.com.tw/job/79904078/',\n",
       " '//www.1111.com.tw/job/79904068/',\n",
       " '//www.1111.com.tw/job/79904066/',\n",
       " '//www.1111.com.tw/job/79904064/',\n",
       " '//www.1111.com.tw/job/79904060/',\n",
       " '//www.1111.com.tw/job/79904057/',\n",
       " '//www.1111.com.tw/job/79904050/',\n",
       " '//www.1111.com.tw/job/79904049/',\n",
       " '//www.1111.com.tw/job/79904048/',\n",
       " '//www.1111.com.tw/job/79904047/',\n",
       " '//www.1111.com.tw/job/79904045/',\n",
       " '//www.1111.com.tw/job/79904044/',\n",
       " '//www.1111.com.tw/job/79904042/',\n",
       " '//www.1111.com.tw/job/79904039/']"
      ]
     },
     "execution_count": 24,
     "metadata": {},
     "output_type": "execute_result"
    }
   ],
   "source": [
    "for i in page: #拿出每個搜尋頁 將頁面中的連結都取出來\n",
    "    res=requests.get(i)  \n",
    "    soup=BeautifulSoup(res.text,'lxml')\n",
    "    buttons=soup.select('div.jbInfoin > h3 > a')\n",
    "    link = []\n",
    "    for i in buttons:\n",
    "        link.append(i['href'])\n",
    "link \n"
   ]
  },
  {
   "cell_type": "code",
   "execution_count": 26,
   "metadata": {
    "collapsed": true
   },
   "outputs": [],
   "source": [
    "wc=Counter()\n",
    "wc['C++']=0\n",
    "wc['C']=0\n",
    "wc['JAVA']=0\n",
    "wc['JAVASCRIPT']=0\n",
    "wc['C#']=0\n",
    "wc['PYTHON']=0\n",
    "wc['PHP']=0\n",
    "wc['HTML']=0\n",
    "wc['SQL']=0\n",
    "wc['CSS']=0\n",
    "wc['R']=0\n",
    "wc['BASH']=0\n",
    "wc['RUBY']=0\n",
    "wc['PERL']=0\n",
    "wc['SCALA']=0\n",
    "wc['SWIFT']=0\n",
    "wc['GO']=0\n",
    "wc['DELPHI']=0\n",
    "wc['TYPESCRIPT']=0\n"
   ]
  },
  {
   "cell_type": "code",
   "execution_count": 27,
   "metadata": {
    "collapsed": true
   },
   "outputs": [],
   "source": [
    "H='https:'\n",
    "for g in link: #將每個連結拿出來\n",
    "    sk=requests.get(H+g)\n",
    "    BS=BeautifulSoup(sk.text,'lxml')\n",
    "    button=BS.select('dl.dataList')[1].text #抓出專長頁   ！工作內容也有可能出現語言的需求\n",
    "    p=re.compile('[A-Z]+[+#]*')\n",
    "    words=p.findall(button.upper())\n",
    "        \n",
    "    W=[]\n",
    "    for word in words:  #比對出現在頁面中的英文是否出現過 （刪除重複）\n",
    "        if word not in W:\n",
    "            W.append(word)\n",
    "        \n",
    "        for i in W: #如果有出現在字典中 丟到wc做計算\n",
    "            if i in wc:\n",
    "                wc[i]+=1\n",
    "  \n",
    "        \n",
    "        "
   ]
  },
  {
   "cell_type": "code",
   "execution_count": 28,
   "metadata": {},
   "outputs": [
    {
     "data": {
      "text/plain": [
       "Counter({'BASH': 0,\n",
       "         'C': 7,\n",
       "         'C#': 27,\n",
       "         'C++': 0,\n",
       "         'CSS': 19,\n",
       "         'DELPHI': 0,\n",
       "         'GO': 0,\n",
       "         'HTML': 56,\n",
       "         'JAVA': 37,\n",
       "         'JAVASCRIPT': 56,\n",
       "         'PERL': 0,\n",
       "         'PHP': 38,\n",
       "         'PYTHON': 36,\n",
       "         'R': 4,\n",
       "         'RUBY': 0,\n",
       "         'SCALA': 0,\n",
       "         'SQL': 38,\n",
       "         'SWIFT': 0,\n",
       "         'TYPESCRIPT': 0})"
      ]
     },
     "execution_count": 28,
     "metadata": {},
     "output_type": "execute_result"
    }
   ],
   "source": [
    "wc"
   ]
  },
  {
   "cell_type": "code",
   "execution_count": null,
   "metadata": {
    "collapsed": true
   },
   "outputs": [],
   "source": []
  },
  {
   "cell_type": "code",
   "execution_count": null,
   "metadata": {
    "collapsed": true
   },
   "outputs": [],
   "source": []
  }
 ],
 "metadata": {
  "kernelspec": {
   "display_name": "Python 3",
   "language": "python",
   "name": "python3"
  },
  "language_info": {
   "codemirror_mode": {
    "name": "ipython",
    "version": 3
   },
   "file_extension": ".py",
   "mimetype": "text/x-python",
   "name": "python",
   "nbconvert_exporter": "python",
   "pygments_lexer": "ipython3",
   "version": "3.6.1"
  }
 },
 "nbformat": 4,
 "nbformat_minor": 2
}
