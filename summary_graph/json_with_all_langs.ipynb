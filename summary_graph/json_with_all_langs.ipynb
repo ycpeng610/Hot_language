{
 "cells": [
  {
   "cell_type": "code",
   "execution_count": 10,
   "metadata": {
    "scrolled": true
   },
   "outputs": [
    {
     "data": {
      "text/plain": [
       "Counter({'BASH': 0,\n",
       "         'C': 0,\n",
       "         'C#': 0,\n",
       "         'C++': 0,\n",
       "         'CSS': 0,\n",
       "         'DELPHI': 0,\n",
       "         'DNS': 0,\n",
       "         'FTP': 0,\n",
       "         'GO': 0,\n",
       "         'HTML': 0,\n",
       "         'JAVA': 0,\n",
       "         'JAVASCRIPT': 0,\n",
       "         'MYSQL': 0,\n",
       "         'PERL': 0,\n",
       "         'PHP': 0,\n",
       "         'PYTHON': 0,\n",
       "         'R': 0,\n",
       "         'RUBY': 0,\n",
       "         'SCALA': 0,\n",
       "         'SQL': 0,\n",
       "         'SWIFT': 0,\n",
       "         'TYPESCRIPT': 0})"
      ]
     },
     "execution_count": 10,
     "metadata": {},
     "output_type": "execute_result"
    }
   ],
   "source": [
    "import requests\n",
    "from bs4 import BeautifulSoup\n",
    "from collections import Counter\n",
    "import re\n",
    "wc = Counter()\n",
    "wc[\"C\"] = 0                             \n",
    "wc[\"C++\"] = 0\n",
    "wc[\"C#\"] = 0\n",
    "wc[\"PYTHON\"] = 0\n",
    "wc[\"JAVA\"] = 0\n",
    "wc[\"JAVASCRIPT\"] = 0\n",
    "wc[\"PHP\"] = 0\n",
    "wc[\"HTML\"] = 0\n",
    "wc[\"SQL\"] = 0\n",
    "wc[\"CSS\"] = 0\n",
    "wc[\"CSS\"] = 0\n",
    "wc[\"R\"] = 0\n",
    "wc[\"BASH\"] = 0\n",
    "wc[\"RUBY\"] = 0\n",
    "wc[\"PERL\"] = 0\n",
    "wc[\"SCALA\"] = 0\n",
    "wc[\"SWIFT\"] = 0\n",
    "wc[\"GO\"] = 0\n",
    "wc[\"DELPHI\"] = 0\n",
    "wc[\"TYPESCRIPT\"] = 0\n",
    "wc[\"MYSQL\"] = 0\n",
    "wc[\"FTP\"] = 0\n",
    "wc[\"DNS\"] = 0\n",
    "wc"
   ]
  },
  {
   "cell_type": "code",
   "execution_count": 11,
   "metadata": {},
   "outputs": [
    {
     "data": {
      "text/plain": [
       "'/home/skydream37/Rtemp/data'"
      ]
     },
     "execution_count": 11,
     "metadata": {},
     "output_type": "execute_result"
    }
   ],
   "source": [
    "pwd()\n"
   ]
  },
  {
   "cell_type": "code",
   "execution_count": 12,
   "metadata": {
    "scrolled": true
   },
   "outputs": [
    {
     "ename": "FileNotFoundError",
     "evalue": "[Errno 2] No such file or directory: './data'",
     "output_type": "error",
     "traceback": [
      "\u001b[0;31m---------------------------------------------------------------------------\u001b[0m",
      "\u001b[0;31mFileNotFoundError\u001b[0m                         Traceback (most recent call last)",
      "\u001b[0;32m<ipython-input-12-63b4f674f68a>\u001b[0m in \u001b[0;36m<module>\u001b[0;34m()\u001b[0m\n\u001b[1;32m      1\u001b[0m \u001b[0;32mimport\u001b[0m \u001b[0mos\u001b[0m\u001b[0;34m\u001b[0m\u001b[0m\n\u001b[0;32m----> 2\u001b[0;31m \u001b[0mos\u001b[0m\u001b[0;34m.\u001b[0m\u001b[0mchdir\u001b[0m\u001b[0;34m(\u001b[0m\u001b[0;34m'./data'\u001b[0m\u001b[0;34m)\u001b[0m\u001b[0;34m\u001b[0m\u001b[0m\n\u001b[0m\u001b[1;32m      3\u001b[0m \u001b[0mfiles\u001b[0m \u001b[0;34m=\u001b[0m \u001b[0mos\u001b[0m\u001b[0;34m.\u001b[0m\u001b[0mlistdir\u001b[0m\u001b[0;34m(\u001b[0m\u001b[0;34m)\u001b[0m\u001b[0;34m\u001b[0m\u001b[0m\n\u001b[1;32m      4\u001b[0m \u001b[0;34m\u001b[0m\u001b[0m\n\u001b[1;32m      5\u001b[0m \u001b[0;31m# with open('data.json','r')as\u001b[0m\u001b[0;34m\u001b[0m\u001b[0;34m\u001b[0m\u001b[0m\n",
      "\u001b[0;31mFileNotFoundError\u001b[0m: [Errno 2] No such file or directory: './data'"
     ]
    }
   ],
   "source": [
    "import os\n",
    "os.chdir('./data')\n",
    "files = os.listdir()\n",
    "\n",
    "# with open('data.json','r')as "
   ]
  },
  {
   "cell_type": "code",
   "execution_count": null,
   "metadata": {},
   "outputs": [],
   "source": [
    "files #如果讀出來有.DS_Store再用terminal把他remove掉"
   ]
  },
  {
   "cell_type": "code",
   "execution_count": null,
   "metadata": {
    "collapsed": true
   },
   "outputs": [],
   "source": [
    "import json\n",
    "wc = Counter()\n",
    "for file in files:\n",
    "    with open(file, 'r') as f:\n",
    "        data = f.read()\n",
    "        json_data = json.loads(data)\n",
    "        for lang in json_data:\n",
    "            wc[lang]  += json_data[lang]\n",
    "#         print(json_data)\n",
    "# wc.most_common()"
   ]
  },
  {
   "cell_type": "code",
   "execution_count": null,
   "metadata": {},
   "outputs": [],
   "source": [
    "data={\n",
    "    'C': wc['C'],\n",
    "    'C++':wc['C++'],\n",
    "    'C#': wc['C#'],\n",
    "    'PYTHON': wc['PYTHON'],\n",
    "    'JAVA': wc['JAVA'],\n",
    "    'JAVASCRIPT': wc['JAVASCRIPT'],\n",
    "    'PHP': wc['PHP'],\n",
    "    'HTML': wc['HTML'],\n",
    "    'SQL': wc['SQL'],\n",
    "    'CSS': wc['CSS'],\n",
    "    'R': wc['R'],\n",
    "    'BASH': wc['BASH'],\n",
    "    'RUBY': wc['RUBY'],\n",
    "    'PERL': wc['PERL'],\n",
    "    'SCALA': wc['SCALA'],\n",
    "    'SWIFT': wc['SWIFT'],\n",
    "    'GO': wc['GO'],\n",
    "    'DELPHI': wc['DELPHI'],\n",
    "    'TYPESCRIPT': wc['TYPESCRIPT'],\n",
    "    'MYSQL': wc['MYSQL'],\n",
    "    'FTP': wc['FTP'],\n",
    "    'MYSQL': wc['MYSQL'],\n",
    "    'DELPHI': wc['DELPHI']\n",
    "}\n",
    "print(json.dumps(data))\n",
    "with open('all_langs.json','w') as f:\n",
    "    json.dump(data,f)"
   ]
  }
 ],
 "metadata": {
  "kernelspec": {
   "display_name": "Python 3",
   "language": "python",
   "name": "python3"
  },
  "language_info": {
   "codemirror_mode": {
    "name": "ipython",
    "version": 3
   },
   "file_extension": ".py",
   "mimetype": "text/x-python",
   "name": "python",
   "nbconvert_exporter": "python",
   "pygments_lexer": "ipython3",
   "version": "3.6.1"
  }
 },
 "nbformat": 4,
 "nbformat_minor": 2
}
